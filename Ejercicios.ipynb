{
 "cells": [
  {
   "cell_type": "markdown",
   "id": "a2536a20-c29f-4491-8162-3070cbd502f9",
   "metadata": {},
   "source": [
    "## **EJERCICIOS**  \n",
    "- [Ejercicio 14](#ex_14)\n",
    "  - [a) Inciso A](#ex_14_a)\n",
    "  - [b) Inciso B](#ex_14_b)\n",
    "  - [c) Inciso C](#ex_14_c)\n",
    "  - [d) Inciso D](#ex_14_d)\n",
    "  - [e) Inciso E](#ex_14_e)\n",
    "- [Ejercicio 16](#ex_16)\n",
    "  - [a) Inciso A](#ex_16_a)\n",
    "  - [b) Inciso B](#ex_16_b)\n",
    "  - [c) Inciso C](#ex_16_c)\n",
    "  - [d) Inciso D](#ex_16_d)\n",
    "- [Ejercicio 17](#ex_17)\n",
    "  - [a) Inciso A](#ex_17_a)\n",
    "  - [b) Inciso B](#ex_17_b)\n",
    "  - [c) Inciso C](#ex_17_c)\n",
    "  - [d) Inciso D](#ex_17_d)"
   ]
  }
 ],
 "metadata": {
  "kernelspec": {
   "display_name": "Python 3 (ipykernel)",
   "language": "python",
   "name": "python3"
  },
  "language_info": {
   "codemirror_mode": {
    "name": "ipython",
    "version": 3
   },
   "file_extension": ".py",
   "mimetype": "text/x-python",
   "name": "python",
   "nbconvert_exporter": "python",
   "pygments_lexer": "ipython3",
   "version": "3.11.4"
  }
 },
 "nbformat": 4,
 "nbformat_minor": 5
}
